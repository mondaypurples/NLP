{
 "cells": [
  {
   "cell_type": "markdown",
   "metadata": {},
   "source": [
    "## nltk and the Stanford CoreNLP Library"
   ]
  },
  {
   "cell_type": "markdown",
   "metadata": {},
   "source": [
    "NLTK allows you to interact with named entity recognition via it's own model, but also the aforementioned Stanford library. \n",
    "\n",
    "The Stanford library integration requires you to perform a few steps before you can use it, including installing the required Java files and setting system environment variables. \n",
    "\n",
    "You can also use the standford library on its own without integrating it with NLTK or operate it as an API server. \n",
    "\n",
    "The stanford CoreNLP library has great support for named entity recognition as well as some related nlp tasks such as coreference (or linking pronouns and entities together) and dependency trees to help with parsing meaning and relationships amongst words or phrases in a sentence.\n",
    "\n",
    "For our simple use case, we will use the built-in named entity recognition with NLTK."
   ]
  },
  {
   "cell_type": "markdown",
   "metadata": {},
   "source": [
    "## Using nltk for Named Entity Recognition"
   ]
  },
  {
   "cell_type": "code",
   "execution_count": 1,
   "metadata": {},
   "outputs": [
    {
     "data": {
      "text/plain": [
       "'In Chennai, I like to visit Marina beach, Mahabalipuram, Sri Parthasarathy Temple, Kapaleeshwar Temple and some restaurants rated well by TripAdvisor.'"
      ]
     },
     "execution_count": 1,
     "metadata": {},
     "output_type": "execute_result"
    }
   ],
   "source": [
    "import nltk\n",
    "# take a normal sentence\n",
    "sentence = '''In Chennai, I like to visit Marina beach, Mahabalipuram, Sri Parthasarathy Temple, Kapaleeshwar Temple and some restaurants rated well by TripAdvisor.'''\n",
    "sentence"
   ]
  },
  {
   "cell_type": "code",
   "execution_count": 2,
   "metadata": {},
   "outputs": [
    {
     "data": {
      "text/plain": [
       "['In',\n",
       " 'Chennai',\n",
       " ',',\n",
       " 'I',\n",
       " 'like',\n",
       " 'to',\n",
       " 'visit',\n",
       " 'Marina',\n",
       " 'beach',\n",
       " ',',\n",
       " 'Mahabalipuram',\n",
       " ',',\n",
       " 'Sri',\n",
       " 'Parthasarathy',\n",
       " 'Temple',\n",
       " ',',\n",
       " 'Kapaleeshwar',\n",
       " 'Temple',\n",
       " 'and',\n",
       " 'some',\n",
       " 'restaurants',\n",
       " 'rated',\n",
       " 'well',\n",
       " 'by',\n",
       " 'TripAdvisor',\n",
       " '.']"
      ]
     },
     "execution_count": 2,
     "metadata": {},
     "output_type": "execute_result"
    }
   ],
   "source": [
    "# preprocess it via tokenization\n",
    "tokenized_sent = nltk.word_tokenize(sentence)\n",
    "tokenized_sent"
   ]
  },
  {
   "cell_type": "code",
   "execution_count": 3,
   "metadata": {},
   "outputs": [
    {
     "data": {
      "text/plain": [
       "[('In', 'IN'),\n",
       " ('Chennai', 'NNP'),\n",
       " (',', ','),\n",
       " ('I', 'PRP'),\n",
       " ('like', 'VBP'),\n",
       " ('to', 'TO'),\n",
       " ('visit', 'VB'),\n",
       " ('Marina', 'NNP'),\n",
       " ('beach', 'NN'),\n",
       " (',', ','),\n",
       " ('Mahabalipuram', 'NNP'),\n",
       " (',', ','),\n",
       " ('Sri', 'NNP'),\n",
       " ('Parthasarathy', 'NNP'),\n",
       " ('Temple', 'NNP'),\n",
       " (',', ','),\n",
       " ('Kapaleeshwar', 'NNP'),\n",
       " ('Temple', 'NNP'),\n",
       " ('and', 'CC'),\n",
       " ('some', 'DT'),\n",
       " ('restaurants', 'NNS'),\n",
       " ('rated', 'VBN'),\n",
       " ('well', 'RB'),\n",
       " ('by', 'IN'),\n",
       " ('TripAdvisor', 'NNP'),\n",
       " ('.', '.')]"
      ]
     },
     "execution_count": 3,
     "metadata": {},
     "output_type": "execute_result"
    }
   ],
   "source": [
    "# tag the sentence for parts of speech\n",
    "# this will add tags for proper nouns, pronouns, adjective, verbs and other part of speech that NLTK uses based on an english grammar\n",
    "# NNP is the tag for a proper noun, singular\n",
    "tagged_sent = nltk.pos_tag(tokenized_sent)\n",
    "tagged_sent"
   ]
  },
  {
   "cell_type": "code",
   "execution_count": 4,
   "metadata": {},
   "outputs": [
    {
     "name": "stdout",
     "output_type": "stream",
     "text": [
      "(S\n",
      "  In/IN\n",
      "  (GPE Chennai/NNP)\n",
      "  ,/,\n",
      "  I/PRP\n",
      "  like/VBP\n",
      "  to/TO\n",
      "  visit/VB\n",
      "  (GPE Marina/NNP)\n",
      "  beach/NN\n",
      "  ,/,\n",
      "  (GPE Mahabalipuram/NNP)\n",
      "  ,/,\n",
      "  (PERSON Sri/NNP Parthasarathy/NNP Temple/NNP)\n",
      "  ,/,\n",
      "  (PERSON Kapaleeshwar/NNP Temple/NNP)\n",
      "  and/CC\n",
      "  some/DT\n",
      "  restaurants/NNS\n",
      "  rated/VBN\n",
      "  well/RB\n",
      "  by/IN\n",
      "  (ORGANIZATION TripAdvisor/NNP)\n",
      "  ./.)\n"
     ]
    }
   ],
   "source": [
    "# pass this tagged sentence into the ne_chunk function\n",
    "# returns the sentence as a tree\n",
    "# they do have leaves and subtrees representing more complex grammar\n",
    "\n",
    "print(nltk.ne_chunk(tagged_sent))"
   ]
  },
  {
   "cell_type": "markdown",
   "metadata": {},
   "source": [
    "Chennai is identified as GPE (geopolitical entity), TripAdvisor as an organization and visit as verb. It does so without consulting a knowledge base, like wikipedia, but instead uses trained statistical and grammatical parsers."
   ]
  },
  {
   "cell_type": "markdown",
   "metadata": {},
   "source": [
    "## More named entity recognition using nltk"
   ]
  },
  {
   "cell_type": "code",
   "execution_count": 5,
   "metadata": {},
   "outputs": [],
   "source": [
    "with open(\"/Users/brindhamanivannan/Desktop/KaggleX/DataCamp/NLP/new_article.txt\", \"r\") as file:\n",
    "    new_article = file.read()"
   ]
  },
  {
   "cell_type": "code",
   "execution_count": 6,
   "metadata": {},
   "outputs": [
    {
     "name": "stdout",
     "output_type": "stream",
     "text": [
      "The taxi-hailing company Uber brings into very sharp focus the question of whether corporations can be said to have a moral character. If any human being were to behave with the single-minded and ruthless greed of the company, we would consider them sociopathic. Uber wanted to know as much as possible about the people who use its service, and those who don’t. It has an arrangement with unroll.me, a company which offered a free service for unsubscribing from junk mail, to buy the contacts unroll.me customers had had with rival taxi companies. Even if their email was notionally anonymised, this use of it was not something the users had bargained for. Beyond that, it keeps track of the phones that have been used to summon its services even after the original owner has sold them, attempting this with Apple’s phones even thought it is forbidden by the company.\n",
      "\n",
      "\n",
      "Uber has also tweaked its software so that regulatory agencies that the company regarded as hostile would, when they tried to hire a driver, be given false reports about the location of its cars. Uber management booked and then cancelled rides with a rival taxi-hailing company which took their vehicles out of circulation. Uber deny this was the intention. The punishment for this behaviour was negligible. Uber promised not to use this “greyball” software against law enforcement – one wonders what would happen to someone carrying a knife who promised never to stab a policeman with it. Travis Kalanick of Uber got a personal dressing down from Tim Cook, who runs Apple, but the company did not prohibit the use of the app. Too much money was at stake for that.\n",
      "\n",
      "\n",
      "Millions of people around the world value the cheapness and convenience of Uber’s rides too much to care about the lack of drivers’ rights or pay. Many of the users themselves are not much richer than the drivers. The “sharing economy” encourages the insecure and exploited to exploit others equally insecure to the profit of a tiny clique of billionaires. Silicon Valley’s culture seems hostile to humane and democratic values. The outgoing CEO of Yahoo, Marissa Mayer, who is widely judged to have been a failure, is likely to get a $186m payout. This may not be a cause for panic, any more than the previous hero worship should have been a cause for euphoria. Yet there’s an urgent political task to tame these companies, to ensure they are punished when they break the law, that they pay their taxes fairly and that they behave responsibly.\n"
     ]
    }
   ],
   "source": [
    "print(new_article)"
   ]
  },
  {
   "cell_type": "code",
   "execution_count": 7,
   "metadata": {},
   "outputs": [
    {
     "data": {
      "text/plain": [
       "str"
      ]
     },
     "execution_count": 7,
     "metadata": {},
     "output_type": "execute_result"
    }
   ],
   "source": [
    "type(new_article)"
   ]
  },
  {
   "cell_type": "code",
   "execution_count": 8,
   "metadata": {},
   "outputs": [
    {
     "data": {
      "text/plain": [
       "['The taxi-hailing company Uber brings into very sharp focus the question of whether corporations can be said to have a moral character.',\n",
       " 'If any human being were to behave with the single-minded and ruthless greed of the company, we would consider them sociopathic.',\n",
       " 'Uber wanted to know as much as possible about the people who use its service, and those who don’t.',\n",
       " 'It has an arrangement with unroll.me, a company which offered a free service for unsubscribing from junk mail, to buy the contacts unroll.me customers had had with rival taxi companies.',\n",
       " 'Even if their email was notionally anonymised, this use of it was not something the users had bargained for.',\n",
       " 'Beyond that, it keeps track of the phones that have been used to summon its services even after the original owner has sold them, attempting this with Apple’s phones even thought it is forbidden by the company.',\n",
       " 'Uber has also tweaked its software so that regulatory agencies that the company regarded as hostile would, when they tried to hire a driver, be given false reports about the location of its cars.',\n",
       " 'Uber management booked and then cancelled rides with a rival taxi-hailing company which took their vehicles out of circulation.',\n",
       " 'Uber deny this was the intention.',\n",
       " 'The punishment for this behaviour was negligible.',\n",
       " 'Uber promised not to use this “greyball” software against law enforcement – one wonders what would happen to someone carrying a knife who promised never to stab a policeman with it.',\n",
       " 'Travis Kalanick of Uber got a personal dressing down from Tim Cook, who runs Apple, but the company did not prohibit the use of the app.',\n",
       " 'Too much money was at stake for that.',\n",
       " 'Millions of people around the world value the cheapness and convenience of Uber’s rides too much to care about the lack of drivers’ rights or pay.',\n",
       " 'Many of the users themselves are not much richer than the drivers.',\n",
       " 'The “sharing economy” encourages the insecure and exploited to exploit others equally insecure to the profit of a tiny clique of billionaires.',\n",
       " 'Silicon Valley’s culture seems hostile to humane and democratic values.',\n",
       " 'The outgoing CEO of Yahoo, Marissa Mayer, who is widely judged to have been a failure, is likely to get a $186m payout.',\n",
       " 'This may not be a cause for panic, any more than the previous hero worship should have been a cause for euphoria.',\n",
       " 'Yet there’s an urgent political task to tame these companies, to ensure they are punished when they break the law, that they pay their taxes fairly and that they behave responsibly.']"
      ]
     },
     "execution_count": 8,
     "metadata": {},
     "output_type": "execute_result"
    }
   ],
   "source": [
    "# Tokenize the article into sentences: sentences\n",
    "sentences_new = nltk.sent_tokenize(new_article)\n",
    "sentences_new"
   ]
  },
  {
   "cell_type": "code",
   "execution_count": 9,
   "metadata": {},
   "outputs": [
    {
     "data": {
      "text/plain": [
       "20"
      ]
     },
     "execution_count": 9,
     "metadata": {},
     "output_type": "execute_result"
    }
   ],
   "source": [
    "len(sentences_new)"
   ]
  },
  {
   "cell_type": "code",
   "execution_count": 10,
   "metadata": {},
   "outputs": [
    {
     "data": {
      "text/plain": [
       "[['The',\n",
       "  'taxi-hailing',\n",
       "  'company',\n",
       "  'Uber',\n",
       "  'brings',\n",
       "  'into',\n",
       "  'very',\n",
       "  'sharp',\n",
       "  'focus',\n",
       "  'the',\n",
       "  'question',\n",
       "  'of',\n",
       "  'whether',\n",
       "  'corporations',\n",
       "  'can',\n",
       "  'be',\n",
       "  'said',\n",
       "  'to',\n",
       "  'have',\n",
       "  'a',\n",
       "  'moral',\n",
       "  'character',\n",
       "  '.'],\n",
       " ['If',\n",
       "  'any',\n",
       "  'human',\n",
       "  'being',\n",
       "  'were',\n",
       "  'to',\n",
       "  'behave',\n",
       "  'with',\n",
       "  'the',\n",
       "  'single-minded',\n",
       "  'and',\n",
       "  'ruthless',\n",
       "  'greed',\n",
       "  'of',\n",
       "  'the',\n",
       "  'company',\n",
       "  ',',\n",
       "  'we',\n",
       "  'would',\n",
       "  'consider',\n",
       "  'them',\n",
       "  'sociopathic',\n",
       "  '.']]"
      ]
     },
     "execution_count": 10,
     "metadata": {},
     "output_type": "execute_result"
    }
   ],
   "source": [
    "# Tokenize each sentence into words: token_sentences\n",
    "token_sentences_1 = [nltk.word_tokenize(sent) for sent in sentences_new]\n",
    "token_sentences_1[:2]\n"
   ]
  },
  {
   "cell_type": "code",
   "execution_count": 11,
   "metadata": {},
   "outputs": [
    {
     "data": {
      "text/plain": [
       "[[('The', 'DT'),\n",
       "  ('taxi-hailing', 'JJ'),\n",
       "  ('company', 'NN'),\n",
       "  ('Uber', 'NNP'),\n",
       "  ('brings', 'VBZ'),\n",
       "  ('into', 'IN'),\n",
       "  ('very', 'RB'),\n",
       "  ('sharp', 'JJ'),\n",
       "  ('focus', 'VB'),\n",
       "  ('the', 'DT'),\n",
       "  ('question', 'NN'),\n",
       "  ('of', 'IN'),\n",
       "  ('whether', 'IN'),\n",
       "  ('corporations', 'NNS'),\n",
       "  ('can', 'MD'),\n",
       "  ('be', 'VB'),\n",
       "  ('said', 'VBD'),\n",
       "  ('to', 'TO'),\n",
       "  ('have', 'VB'),\n",
       "  ('a', 'DT'),\n",
       "  ('moral', 'JJ'),\n",
       "  ('character', 'NN'),\n",
       "  ('.', '.')],\n",
       " [('If', 'IN'),\n",
       "  ('any', 'DT'),\n",
       "  ('human', 'JJ'),\n",
       "  ('being', 'VBG'),\n",
       "  ('were', 'VBD'),\n",
       "  ('to', 'TO'),\n",
       "  ('behave', 'VB'),\n",
       "  ('with', 'IN'),\n",
       "  ('the', 'DT'),\n",
       "  ('single-minded', 'JJ'),\n",
       "  ('and', 'CC'),\n",
       "  ('ruthless', 'JJ'),\n",
       "  ('greed', 'NN'),\n",
       "  ('of', 'IN'),\n",
       "  ('the', 'DT'),\n",
       "  ('company', 'NN'),\n",
       "  (',', ','),\n",
       "  ('we', 'PRP'),\n",
       "  ('would', 'MD'),\n",
       "  ('consider', 'VB'),\n",
       "  ('them', 'PRP'),\n",
       "  ('sociopathic', 'JJ'),\n",
       "  ('.', '.')],\n",
       " [('Uber', 'NNP'),\n",
       "  ('wanted', 'VBD'),\n",
       "  ('to', 'TO'),\n",
       "  ('know', 'VB'),\n",
       "  ('as', 'RB'),\n",
       "  ('much', 'JJ'),\n",
       "  ('as', 'IN'),\n",
       "  ('possible', 'JJ'),\n",
       "  ('about', 'IN'),\n",
       "  ('the', 'DT'),\n",
       "  ('people', 'NNS'),\n",
       "  ('who', 'WP'),\n",
       "  ('use', 'VBP'),\n",
       "  ('its', 'PRP$'),\n",
       "  ('service', 'NN'),\n",
       "  (',', ','),\n",
       "  ('and', 'CC'),\n",
       "  ('those', 'DT'),\n",
       "  ('who', 'WP'),\n",
       "  ('don', 'VBP'),\n",
       "  ('’', 'JJ'),\n",
       "  ('t', 'NN'),\n",
       "  ('.', '.')],\n",
       " [('It', 'PRP'),\n",
       "  ('has', 'VBZ'),\n",
       "  ('an', 'DT'),\n",
       "  ('arrangement', 'NN'),\n",
       "  ('with', 'IN'),\n",
       "  ('unroll.me', 'JJ'),\n",
       "  (',', ','),\n",
       "  ('a', 'DT'),\n",
       "  ('company', 'NN'),\n",
       "  ('which', 'WDT'),\n",
       "  ('offered', 'VBD'),\n",
       "  ('a', 'DT'),\n",
       "  ('free', 'JJ'),\n",
       "  ('service', 'NN'),\n",
       "  ('for', 'IN'),\n",
       "  ('unsubscribing', 'VBG'),\n",
       "  ('from', 'IN'),\n",
       "  ('junk', 'NN'),\n",
       "  ('mail', 'NN'),\n",
       "  (',', ','),\n",
       "  ('to', 'TO'),\n",
       "  ('buy', 'VB'),\n",
       "  ('the', 'DT'),\n",
       "  ('contacts', 'NNS'),\n",
       "  ('unroll.me', 'JJ'),\n",
       "  ('customers', 'NNS'),\n",
       "  ('had', 'VBD'),\n",
       "  ('had', 'VBN'),\n",
       "  ('with', 'IN'),\n",
       "  ('rival', 'JJ'),\n",
       "  ('taxi', 'NN'),\n",
       "  ('companies', 'NNS'),\n",
       "  ('.', '.')],\n",
       " [('Even', 'RB'),\n",
       "  ('if', 'IN'),\n",
       "  ('their', 'PRP$'),\n",
       "  ('email', 'NN'),\n",
       "  ('was', 'VBD'),\n",
       "  ('notionally', 'RB'),\n",
       "  ('anonymised', 'VBN'),\n",
       "  (',', ','),\n",
       "  ('this', 'DT'),\n",
       "  ('use', 'NN'),\n",
       "  ('of', 'IN'),\n",
       "  ('it', 'PRP'),\n",
       "  ('was', 'VBD'),\n",
       "  ('not', 'RB'),\n",
       "  ('something', 'NN'),\n",
       "  ('the', 'DT'),\n",
       "  ('users', 'NNS'),\n",
       "  ('had', 'VBD'),\n",
       "  ('bargained', 'VBN'),\n",
       "  ('for', 'IN'),\n",
       "  ('.', '.')],\n",
       " [('Beyond', 'NN'),\n",
       "  ('that', 'IN'),\n",
       "  (',', ','),\n",
       "  ('it', 'PRP'),\n",
       "  ('keeps', 'VBZ'),\n",
       "  ('track', 'NN'),\n",
       "  ('of', 'IN'),\n",
       "  ('the', 'DT'),\n",
       "  ('phones', 'NNS'),\n",
       "  ('that', 'WDT'),\n",
       "  ('have', 'VBP'),\n",
       "  ('been', 'VBN'),\n",
       "  ('used', 'VBN'),\n",
       "  ('to', 'TO'),\n",
       "  ('summon', 'VB'),\n",
       "  ('its', 'PRP$'),\n",
       "  ('services', 'NNS'),\n",
       "  ('even', 'RB'),\n",
       "  ('after', 'IN'),\n",
       "  ('the', 'DT'),\n",
       "  ('original', 'JJ'),\n",
       "  ('owner', 'NN'),\n",
       "  ('has', 'VBZ'),\n",
       "  ('sold', 'VBN'),\n",
       "  ('them', 'PRP'),\n",
       "  (',', ','),\n",
       "  ('attempting', 'VBG'),\n",
       "  ('this', 'DT'),\n",
       "  ('with', 'IN'),\n",
       "  ('Apple', 'NNP'),\n",
       "  ('’', 'NNP'),\n",
       "  ('s', 'VBP'),\n",
       "  ('phones', 'NNS'),\n",
       "  ('even', 'RB'),\n",
       "  ('thought', 'VBD'),\n",
       "  ('it', 'PRP'),\n",
       "  ('is', 'VBZ'),\n",
       "  ('forbidden', 'VBN'),\n",
       "  ('by', 'IN'),\n",
       "  ('the', 'DT'),\n",
       "  ('company', 'NN'),\n",
       "  ('.', '.')],\n",
       " [('Uber', 'NNP'),\n",
       "  ('has', 'VBZ'),\n",
       "  ('also', 'RB'),\n",
       "  ('tweaked', 'VBN'),\n",
       "  ('its', 'PRP$'),\n",
       "  ('software', 'NN'),\n",
       "  ('so', 'IN'),\n",
       "  ('that', 'DT'),\n",
       "  ('regulatory', 'JJ'),\n",
       "  ('agencies', 'NNS'),\n",
       "  ('that', 'IN'),\n",
       "  ('the', 'DT'),\n",
       "  ('company', 'NN'),\n",
       "  ('regarded', 'VBD'),\n",
       "  ('as', 'IN'),\n",
       "  ('hostile', 'NN'),\n",
       "  ('would', 'MD'),\n",
       "  (',', ','),\n",
       "  ('when', 'WRB'),\n",
       "  ('they', 'PRP'),\n",
       "  ('tried', 'VBD'),\n",
       "  ('to', 'TO'),\n",
       "  ('hire', 'VB'),\n",
       "  ('a', 'DT'),\n",
       "  ('driver', 'NN'),\n",
       "  (',', ','),\n",
       "  ('be', 'VB'),\n",
       "  ('given', 'VBN'),\n",
       "  ('false', 'JJ'),\n",
       "  ('reports', 'NNS'),\n",
       "  ('about', 'IN'),\n",
       "  ('the', 'DT'),\n",
       "  ('location', 'NN'),\n",
       "  ('of', 'IN'),\n",
       "  ('its', 'PRP$'),\n",
       "  ('cars', 'NNS'),\n",
       "  ('.', '.')],\n",
       " [('Uber', 'NNP'),\n",
       "  ('management', 'NN'),\n",
       "  ('booked', 'VBD'),\n",
       "  ('and', 'CC'),\n",
       "  ('then', 'RB'),\n",
       "  ('cancelled', 'VBD'),\n",
       "  ('rides', 'NNS'),\n",
       "  ('with', 'IN'),\n",
       "  ('a', 'DT'),\n",
       "  ('rival', 'JJ'),\n",
       "  ('taxi-hailing', 'JJ'),\n",
       "  ('company', 'NN'),\n",
       "  ('which', 'WDT'),\n",
       "  ('took', 'VBD'),\n",
       "  ('their', 'PRP$'),\n",
       "  ('vehicles', 'NNS'),\n",
       "  ('out', 'IN'),\n",
       "  ('of', 'IN'),\n",
       "  ('circulation', 'NN'),\n",
       "  ('.', '.')],\n",
       " [('Uber', 'NNP'),\n",
       "  ('deny', 'NN'),\n",
       "  ('this', 'DT'),\n",
       "  ('was', 'VBD'),\n",
       "  ('the', 'DT'),\n",
       "  ('intention', 'NN'),\n",
       "  ('.', '.')],\n",
       " [('The', 'DT'),\n",
       "  ('punishment', 'NN'),\n",
       "  ('for', 'IN'),\n",
       "  ('this', 'DT'),\n",
       "  ('behaviour', 'NN'),\n",
       "  ('was', 'VBD'),\n",
       "  ('negligible', 'JJ'),\n",
       "  ('.', '.')]]"
      ]
     },
     "execution_count": 11,
     "metadata": {},
     "output_type": "execute_result"
    }
   ],
   "source": [
    "# Tag each tokenized sentence into parts of speech: pos_sentences\n",
    "pos_sentences = [nltk.pos_tag(sent) for sent in token_sentences_1] \n",
    "pos_sentences[:10]"
   ]
  },
  {
   "cell_type": "code",
   "execution_count": 12,
   "metadata": {},
   "outputs": [
    {
     "data": {
      "text/plain": [
       "<generator object ParserI.parse_sents.<locals>.<genexpr> at 0x7ff26a04e200>"
      ]
     },
     "execution_count": 12,
     "metadata": {},
     "output_type": "execute_result"
    }
   ],
   "source": [
    "# Create the named entity chunks: chunked_sentences\n",
    "chunked_sentences = nltk.ne_chunk_sents(pos_sentences, binary=True)\n",
    "chunked_sentences"
   ]
  },
  {
   "cell_type": "code",
   "execution_count": 13,
   "metadata": {},
   "outputs": [
    {
     "name": "stdout",
     "output_type": "stream",
     "text": [
      "(NE Uber/NNP)\n",
      "(NE Beyond/NN)\n",
      "(NE Apple/NNP)\n",
      "(NE Uber/NNP)\n",
      "(NE Uber/NNP)\n",
      "(NE Travis/NNP Kalanick/NNP)\n",
      "(NE Tim/NNP Cook/NNP)\n",
      "(NE Apple/NNP)\n",
      "(NE Silicon/NNP Valley/NNP)\n",
      "(NE CEO/NNP)\n",
      "(NE Yahoo/NNP)\n",
      "(NE Marissa/NNP Mayer/NNP)\n"
     ]
    }
   ],
   "source": [
    "# Test for stems of the tree with 'NE' tags\n",
    "for sent in chunked_sentences:\n",
    "    for chunk in sent:\n",
    "        if hasattr(chunk, \"label\") and chunk.label() == \"NE\":\n",
    "            print(chunk)"
   ]
  },
  {
   "cell_type": "markdown",
   "metadata": {},
   "source": [
    "## NER with NLTK - Full code\n",
    "\n",
    "Use nltk to find the named entities in this article.\n"
   ]
  },
  {
   "cell_type": "code",
   "execution_count": null,
   "metadata": {},
   "outputs": [],
   "source": [
    "# Tokenize the article into sentences: sentences\n",
    "sentences = nltk.sent_tokenize(article)\n",
    "\n",
    "# Tokenize each sentence into words: token_sentences\n",
    "token_sentences = [nltk.word_tokenize(sent) for sent in sentences]\n",
    "\n",
    "# Tag each tokenized sentence into parts of speech: pos_sentences\n",
    "pos_sentences = [nltk.pos_tag(sent) for sent in token_sentences] \n",
    "\n",
    "# Create the named entity chunks: chunked_sentences\n",
    "chunked_sentences = nltk.ne_chunk_sents(pos_sentences, binary=True)\n",
    "\n",
    "# Test for stems of the tree with 'NE' tags\n",
    "for sent in chunked_sentences:\n",
    "    for chunk in sent:\n",
    "        if hasattr(chunk, \"label\") and chunk.label() == \"NE\":\n",
    "            print(chunk)"
   ]
  },
  {
   "cell_type": "markdown",
   "metadata": {},
   "source": [
    "## SpaCy"
   ]
  },
  {
   "cell_type": "markdown",
   "metadata": {},
   "source": [
    "SpaCy is a free, open-source library for natural language processing (NLP) in Python. It is designed to help developers build applications that can process and understand large volumes of text efficiently.\n",
    "\n",
    "SpaCy offers a range of NLP tasks, including tokenization (splitting text into individual words and punctuation), part-of-speech tagging (identifying the part of speech of each word), dependency parsing (analyzing the grammatical structure of a sentence), and entity recognition (identifying and classifying named entities). It also includes tools for creating and training custom models for specific NLP tasks.\n",
    "\n",
    "SpaCy is fast and efficient, and has a simple and intuitive API. It is widely used in industry and academia, and is a popular choice for building NLP-based applications."
   ]
  },
  {
   "cell_type": "markdown",
   "metadata": {},
   "source": [
    "SpaCy is a NLP library similar to Gensim, but with different implementations, including a particular focus on creating NLP pipelines to generate models and corpora.\n",
    "\n",
    "SpaCy has several extra libraries and tools, including Displacy - a visualization tool for viewing parse trees which uses Node-js to create interactive text."
   ]
  },
  {
   "cell_type": "code",
   "execution_count": 19,
   "metadata": {},
   "outputs": [
    {
     "name": "stdout",
     "output_type": "stream",
     "text": [
      "Apple ORG\n",
      "U.K. GPE\n",
      "$1 billion MONEY\n"
     ]
    }
   ],
   "source": [
    "import spacy\n",
    "nlp = spacy.load('en_core_web_sm')\n",
    "text = \"Apple is looking at buying U.K. startup for $1 billion\"\n",
    "doc = nlp(text)\n",
    "for ent in doc.ents:\n",
    "    print(ent.text, ent.label_)\n"
   ]
  },
  {
   "cell_type": "code",
   "execution_count": 21,
   "metadata": {},
   "outputs": [
    {
     "data": {
      "text/plain": [
       "(The White House, the United States, Joe Biden)"
      ]
     },
     "execution_count": 21,
     "metadata": {},
     "output_type": "execute_result"
    }
   ],
   "source": [
    "doc = nlp(\"\"\"The White House is in the United States and it is the official residence and workplace of the president Joe Biden.\"\"\")\n",
    "doc.ents"
   ]
  },
  {
   "cell_type": "code",
   "execution_count": 24,
   "metadata": {},
   "outputs": [
    {
     "name": "stdout",
     "output_type": "stream",
     "text": [
      "The White House ORG\n"
     ]
    }
   ],
   "source": [
    "print(doc.ents[0], doc.ents[0].label_)"
   ]
  },
  {
   "cell_type": "code",
   "execution_count": 25,
   "metadata": {},
   "outputs": [
    {
     "name": "stdout",
     "output_type": "stream",
     "text": [
      "the United States GPE\n"
     ]
    }
   ],
   "source": [
    "print(doc.ents[1], doc.ents[1].label_)"
   ]
  },
  {
   "cell_type": "code",
   "execution_count": 26,
   "metadata": {},
   "outputs": [
    {
     "name": "stdout",
     "output_type": "stream",
     "text": [
      "Joe Biden PERSON\n"
     ]
    }
   ],
   "source": [
    "print(doc.ents[2], doc.ents[2].label_)"
   ]
  },
  {
   "cell_type": "markdown",
   "metadata": {},
   "source": [
    "## Why use SpaCy for NER?"
   ]
  },
  {
   "cell_type": "markdown",
   "metadata": {},
   "source": [
    "There are several reasons why SpaCy is a good choice for named entity recognition (NER):\n",
    "\n",
    "Speed: SpaCy is designed to be fast and efficient, and is able to process large volumes of text quickly. This makes it well-suited for tasks like NER, where you may need to extract information from a large dataset.\n",
    "\n",
    "Accuracy: SpaCy is known for its high accuracy in NER tasks, and includes pre-trained models that have been trained on a large dataset of annotated text. These models can often achieve high performance on NER tasks with minimal fine-tuning.\n",
    "\n",
    "Simplicity: SpaCy has a simple and intuitive API, making it easy to use and learn. This can be especially useful if you are new to NLP or are working on a time-sensitive project.\n",
    "\n",
    "Customization: SpaCy allows you to customize and train your own models for specific NER tasks, giving you the flexibility to extract the specific types of entities that you are interested in.\n",
    "\n",
    "Overall, SpaCy is a powerful and efficient tool for NER tasks, and is widely used in industry and academia for this purpose."
   ]
  },
  {
   "cell_type": "markdown",
   "metadata": {},
   "source": [
    "Also, Outside of being able to integrate with the other great Spacy features like easy pipeline creation, it has a different set of entity types and often labels entities differently than nltk. In addition, Spacy comes with informal language corpora, allowing you to more easily find entities in documents like Tweets and chat messages. It's a quickly growing library, so it might even have more languages supported by the time you are reading this!"
   ]
  },
  {
   "cell_type": "markdown",
   "metadata": {},
   "source": [
    "## Comparing NLTK with spaCy NER"
   ]
  },
  {
   "cell_type": "code",
   "execution_count": 27,
   "metadata": {},
   "outputs": [
    {
     "name": "stdout",
     "output_type": "stream",
     "text": [
      "The taxi-hailing company Uber brings into very sharp focus the question of whether corporations can be said to have a moral character. If any human being were to behave with the single-minded and ruthless greed of the company, we would consider them sociopathic. Uber wanted to know as much as possible about the people who use its service, and those who don’t. It has an arrangement with unroll.me, a company which offered a free service for unsubscribing from junk mail, to buy the contacts unroll.me customers had had with rival taxi companies. Even if their email was notionally anonymised, this use of it was not something the users had bargained for. Beyond that, it keeps track of the phones that have been used to summon its services even after the original owner has sold them, attempting this with Apple’s phones even thought it is forbidden by the company.\n",
      "\n",
      "\n",
      "Uber has also tweaked its software so that regulatory agencies that the company regarded as hostile would, when they tried to hire a driver, be given false reports about the location of its cars. Uber management booked and then cancelled rides with a rival taxi-hailing company which took their vehicles out of circulation. Uber deny this was the intention. The punishment for this behaviour was negligible. Uber promised not to use this “greyball” software against law enforcement – one wonders what would happen to someone carrying a knife who promised never to stab a policeman with it. Travis Kalanick of Uber got a personal dressing down from Tim Cook, who runs Apple, but the company did not prohibit the use of the app. Too much money was at stake for that.\n",
      "\n",
      "\n",
      "Millions of people around the world value the cheapness and convenience of Uber’s rides too much to care about the lack of drivers’ rights or pay. Many of the users themselves are not much richer than the drivers. The “sharing economy” encourages the insecure and exploited to exploit others equally insecure to the profit of a tiny clique of billionaires. Silicon Valley’s culture seems hostile to humane and democratic values. The outgoing CEO of Yahoo, Marissa Mayer, who is widely judged to have been a failure, is likely to get a $186m payout. This may not be a cause for panic, any more than the previous hero worship should have been a cause for euphoria. Yet there’s an urgent political task to tame these companies, to ensure they are punished when they break the law, that they pay their taxes fairly and that they behave responsibly.\n"
     ]
    }
   ],
   "source": [
    "print(new_article)"
   ]
  },
  {
   "cell_type": "code",
   "execution_count": 28,
   "metadata": {},
   "outputs": [],
   "source": [
    "# Import spacy\n",
    "import spacy\n",
    "\n",
    "# Instantiate the English model: nlp\n",
    "# To minimize execution times, specify the keyword argument disable=['tagger', 'parser', 'matcher'] when loading the spaCy model, because we only care about the entity in this exercise\n",
    "nlp = spacy.load('en_core_web_sm', disable=['tagger', 'parser', 'matcher'])"
   ]
  },
  {
   "cell_type": "code",
   "execution_count": 29,
   "metadata": {},
   "outputs": [
    {
     "data": {
      "text/plain": [
       "<spacy.lang.en.English at 0x7ff24ee97ee0>"
      ]
     },
     "execution_count": 29,
     "metadata": {},
     "output_type": "execute_result"
    }
   ],
   "source": [
    "nlp"
   ]
  },
  {
   "cell_type": "code",
   "execution_count": 31,
   "metadata": {},
   "outputs": [
    {
     "name": "stderr",
     "output_type": "stream",
     "text": [
      "/Users/brindhamanivannan/opt/anaconda3/lib/python3.8/site-packages/spacy/pipeline/lemmatizer.py:211: UserWarning: [W108] The rule-based lemmatizer did not find POS annotation for one or more tokens. Check that your pipeline includes components that assign token.pos, typically 'tagger'+'attribute_ruler' or 'morphologizer'.\n",
      "  warnings.warn(Warnings.W108)\n"
     ]
    },
    {
     "data": {
      "text/plain": [
       "The taxi-hailing company Uber brings into very sharp focus the question of whether corporations can be said to have a moral character. If any human being were to behave with the single-minded and ruthless greed of the company, we would consider them sociopathic. Uber wanted to know as much as possible about the people who use its service, and those who don’t. It has an arrangement with unroll.me, a company which offered a free service for unsubscribing from junk mail, to buy the contacts unroll.me customers had had with rival taxi companies. Even if their email was notionally anonymised, this use of it was not something the users had bargained for. Beyond that, it keeps track of the phones that have been used to summon its services even after the original owner has sold them, attempting this with Apple’s phones even thought it is forbidden by the company.\n",
       "\n",
       "\n",
       "Uber has also tweaked its software so that regulatory agencies that the company regarded as hostile would, when they tried to hire a driver, be given false reports about the location of its cars. Uber management booked and then cancelled rides with a rival taxi-hailing company which took their vehicles out of circulation. Uber deny this was the intention. The punishment for this behaviour was negligible. Uber promised not to use this “greyball” software against law enforcement – one wonders what would happen to someone carrying a knife who promised never to stab a policeman with it. Travis Kalanick of Uber got a personal dressing down from Tim Cook, who runs Apple, but the company did not prohibit the use of the app. Too much money was at stake for that.\n",
       "\n",
       "\n",
       "Millions of people around the world value the cheapness and convenience of Uber’s rides too much to care about the lack of drivers’ rights or pay. Many of the users themselves are not much richer than the drivers. The “sharing economy” encourages the insecure and exploited to exploit others equally insecure to the profit of a tiny clique of billionaires. Silicon Valley’s culture seems hostile to humane and democratic values. The outgoing CEO of Yahoo, Marissa Mayer, who is widely judged to have been a failure, is likely to get a $186m payout. This may not be a cause for panic, any more than the previous hero worship should have been a cause for euphoria. Yet there’s an urgent political task to tame these companies, to ensure they are punished when they break the law, that they pay their taxes fairly and that they behave responsibly."
      ]
     },
     "execution_count": 31,
     "metadata": {},
     "output_type": "execute_result"
    }
   ],
   "source": [
    "# Create a new document: doc\n",
    "doc = nlp(new_article)\n",
    "doc\n",
    "\n"
   ]
  },
  {
   "cell_type": "code",
   "execution_count": 32,
   "metadata": {},
   "outputs": [
    {
     "name": "stdout",
     "output_type": "stream",
     "text": [
      "ORG Uber\n",
      "ORG Apple’s\n",
      "ORG Uber\n",
      "PERSON Travis Kalanick\n",
      "ORG Uber\n",
      "PERSON Tim Cook\n",
      "ORG Apple\n",
      "CARDINAL Millions\n",
      "ORG Uber\n",
      "LOC Silicon Valley’s\n",
      "ORG Yahoo\n",
      "PERSON Marissa Mayer\n",
      "MONEY $186m\n"
     ]
    }
   ],
   "source": [
    "# Print all of the found entities and their labels\n",
    "for ent in doc.ents:\n",
    "    print(ent.label_, ent.text)"
   ]
  },
  {
   "cell_type": "markdown",
   "metadata": {},
   "source": [
    "## spaCy NER Categories"
   ]
  },
  {
   "cell_type": "markdown",
   "metadata": {},
   "source": [
    "Extra categories that spacy uses compared to nltk in its named-entity recognition"
   ]
  },
  {
   "cell_type": "markdown",
   "metadata": {},
   "source": [
    "- NORP\n",
    "- CARDINAL\n",
    "- MONEY\n",
    "- WORKOFART\n",
    "- LANGUAGE\n",
    "- EVENT"
   ]
  },
  {
   "cell_type": "markdown",
   "metadata": {},
   "source": [
    "## Multilingual NER with polyglot library"
   ]
  },
  {
   "cell_type": "markdown",
   "metadata": {},
   "source": [
    "- Polyglot is yet another natural language processing library which uses word vectors to perform simple tasks such as entity recognition\n",
    "- Polyglot has word embeddings for more than 130 languages!\n"
   ]
  },
  {
   "cell_type": "markdown",
   "metadata": {},
   "source": [
    "### Use the polyglot library to identify French entities"
   ]
  },
  {
   "cell_type": "code",
   "execution_count": 34,
   "metadata": {},
   "outputs": [],
   "source": [
    "with open(\"/Users/brindhamanivannan/Desktop/KaggleX/DataCamp/NLP/french_article.txt\", \"r\") as file:\n",
    "    french_article = file.read()"
   ]
  },
  {
   "cell_type": "code",
   "execution_count": 35,
   "metadata": {},
   "outputs": [
    {
     "name": "stdout",
     "output_type": "stream",
     "text": [
      "édition abonné\n",
      "\n",
      "\n",
      "Dans une tribune au « Monde », l’universitaire Charles Cuvelliez estime que le fantasme d’un remplacement de l’homme par l’algorithme et le robot repose sur un malentendu.\n",
      "\n",
      "\n",
      "Le Monde | 10.05.2017 à 06h44 • Mis à jour le 10.05.2017 à 09h47 | Par Charles Cuvelliez (Professeur à l’Ecole polytechnique de l'université libre de Bruxelles)\n",
      "\n",
      "\n",
      "TRIBUNE. L’usage morbide, par certains, de Facebook Live a amené son fondateur à annoncer précipitamment le recrutement de 3 000 modérateurs supplémentaires. Il est vrai que l’intelligence artificielle (IA) est bien en peine de reconnaître des contenus violents, surtout diffusés en direct.\n",
      "\n",
      "\n",
      "Le quotidien affreux de ces modérateurs, contraints de visionner des horreurs à longueur de journée, mériterait pourtant qu’on les remplace vite par des machines !\n",
      "\n",
      "\n",
      "L’IA ne peut pas tout, mais là où elle peut beaucoup, on la maudit, accusée de détruire nos emplois, de remplacer la convivialité humaine. Ce débat repose sur un malentendu.\n",
      "\n",
      "\n",
      "Il vient d’une définition de l’IA qui n’a, dans la réalité, jamais pu être mise en pratique : en 1955, elle était vue comme la création de programmes informatiques qui, quoi qu’on leur confie, le feraient un jour mieux que les humains. On pensait que toute caractéristique de l’intelligence humaine pourrait un jour être si précisément décrite qu’il suffirait d’une machine pour la simuler. Ce n’est pas vrai.\n",
      "\n",
      "\n",
      "Angoisses infondées\n",
      "\n",
      "\n",
      "Comme le dit un récent Livre blanc sur la question (Pourquoi il ne faut pas avoir peur de l’Intelligence arti­ficielle, Julien Maldonato, Deloitte, mars 2017), rien ne pourra remplacer un humain dans sa globalité.\n",
      "\n",
      "\n",
      "L’IA, c’est de l’apprentissage automatique doté d’un processus d’ajustement de modèles statistiques à des masses de données, explique l’auteur. Il s’agit d’un apprentissage sur des paramètres pour lesquels une vision humaine n’explique pas pourquoi ils marchent si bien dans un contexte donné.\n",
      "\n",
      "\n",
      "C’est aussi ce que dit le rapport de l’Office parlementaire d’évaluation des choix scientifiques et technologiques (« Pour une intelligence artificielle maîtrisée, utile et démystifiée », 29 mars 2017), pour qui ce côté « boîte noire » explique des angoisses infondées. Ethiquement, se fonder sur l’IA pour des tâches critiques sans bien comprendre le comment...\n",
      "\n",
      "\n"
     ]
    }
   ],
   "source": [
    "print(french_article)"
   ]
  },
  {
   "cell_type": "code",
   "execution_count": null,
   "metadata": {},
   "outputs": [],
   "source": [
    "# French NER with polyglot\n",
    "# Text class of polyglot needs to be imported from polyglot.text\n",
    "\n",
    "# Create a new text object using Polyglot's Text class: txt\n",
    "txt = Text(french_article)\n",
    "\n",
    "# Print each of the entities found\n",
    "for ent in txt.entities:\n",
    "    print(ent)\n",
    "    \n",
    "# Print the type of ent\n",
    "print(type(ent))\n",
    "\n",
    "# Create the list of tuples: entities\n",
    "entities = [(ent.tag, ' '.join(ent)) for ent in txt.entities]\n",
    "\n",
    "# Print entities\n",
    "print(entities)"
   ]
  },
  {
   "cell_type": "markdown",
   "metadata": {},
   "source": [
    "## Spanish NER with polyglot"
   ]
  },
  {
   "cell_type": "code",
   "execution_count": 53,
   "metadata": {},
   "outputs": [],
   "source": [
    "with open(\"/Users/brindhamanivannan/Desktop/KaggleX/DataCamp/NLP/spanish_article.txt\", \"r\") as file:\n",
    "    spanish_article = file.read()"
   ]
  },
  {
   "cell_type": "code",
   "execution_count": 54,
   "metadata": {},
   "outputs": [
    {
     "name": "stdout",
     "output_type": "stream",
     "text": [
      "Lina del Castillo es profesora en el Instituto de Estudios Latinoamericanos Teresa Lozano Long (LLILAS) y el Departamento de Historia de la Universidad de Texas en Austin. Ella será la moderadora del panel “Los Mundos Políticos de Gabriel García Márquez” este viernes, Oct. 30, en el simposio Gabriel García Márquez: Vida y Legado.\n",
      "\n",
      "\n",
      "LIna del Castillo\n",
      "\n",
      "\n",
      "Actualmente, sus investigaciones abarcan la intersección de cartografía, disputas a las demandas de tierra y recursos, y la formación del n...el tren de medianoche que lleva a miles y miles de cadáveres uno encima del otro como tantos racimos del banano que acabarán tirados al mar. Ningún recuento periodístico podría provocar nuestra imaginación y nuestra memoria como este relato de García Márquez.\n",
      "\n",
      "\n",
      "Contenido Relacionado\n",
      "\n",
      "\n",
      "Lea más artículos sobre el archivo de Gabriel García Márquez\n",
      "\n",
      "\n",
      "Reciba mensualmente las últimas noticias e información del Harry Ransom Center con eNews, nuestro correo electrónico mensual. ¡Suscríbase hoy!\n"
     ]
    }
   ],
   "source": [
    "print(spanish_article)"
   ]
  },
  {
   "cell_type": "code",
   "execution_count": null,
   "metadata": {},
   "outputs": [],
   "source": [
    "# The Text object has been created as txt\n",
    "\n",
    "# Determine how many of the entities contain the words \"Márquez\" or \"Gabo\" - these refer to the same person in different ways!\n",
    "\n",
    "# Initialize the count variable: count\n",
    "count = 0\n",
    "\n",
    "# Iterate over all the entities\n",
    "for ent in txt.entities:\n",
    "    # Check whether the entity contains 'Márquez' or 'Gabo'\n",
    "    if \"Márquez\" in ent or \"Gabo\" in ent:\n",
    "        # Increment count\n",
    "        count = count + 1\n",
    "\n",
    "# Print count\n",
    "print(count)\n",
    "\n",
    "# Calculate the percentage of entities that refer to \"Gabo\": percentage\n",
    "percentage = count / len(txt.entities)\n",
    "print(percentage)"
   ]
  }
 ],
 "metadata": {
  "kernelspec": {
   "display_name": "Python 3",
   "language": "python",
   "name": "python3"
  },
  "language_info": {
   "codemirror_mode": {
    "name": "ipython",
    "version": 3
   },
   "file_extension": ".py",
   "mimetype": "text/x-python",
   "name": "python",
   "nbconvert_exporter": "python",
   "pygments_lexer": "ipython3",
   "version": "3.8.5"
  }
 },
 "nbformat": 4,
 "nbformat_minor": 2
}
